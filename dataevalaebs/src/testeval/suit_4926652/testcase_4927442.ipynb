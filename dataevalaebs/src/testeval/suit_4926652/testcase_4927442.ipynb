{
 "cells": [
  {
   "cell_type": "markdown",
   "metadata": {},
   "source": [
    "TestSuit Number:927442\t\n",
    "Test Case\tTSR FunctionBasicDetection check\n",
    "Description / Execution Steps\n",
    "1. a) Accelerate the host vehicle, V_ego = 20 kph.\n",
    "    b) Stabilise and maintain V_ego = 20 kph.\n",
    "2. a) Place a 20 kph Speed limit Traffic sign along the EGO lane direction, to the right side.\n",
    "3. a) The final V_ego must be reached atleast before a minimum distance of 100 meters is achieved between EGO vehicle and Traffic Sign post.\n",
    "    b) Only after 1(b), 2(a), 3(a) are well established, the EGO vehicle should approach the Traffic Sign.\n",
    "4. EGO vehicle crosses the 20 kph Speed limit Traffic Sign post at a speed of a constant speed of 20 kph.\"\t\"Pass/Fail Criteria:\n",
    "Passed:\n",
    "After Point 1:\n",
    "        • TSSDetectedStatus = 0, before the Traffic Sign.\n",
    "\n",
    "After Point 4:\n",
    "       • TSSDetectedStatus = 1, after crossing Traffic Sign.\n",
    "       • TSSCurrentRegion = XX\n",
    "\n",
    "\n",
    "Failed:\n",
    "If\n",
    "       • TSSDetectedStatus = 0, after crossing Traffic Sign.\n",
    "       (i.e.  after EGO has crossed/went passed-by Traffic Sign post.)\n",
    "                                   OR\n",
    "       • TSSDetectedStatus = 1, before approaching the Traffic Sign.\"\t"
   ]
  },
  {
   "cell_type": "markdown",
   "metadata": {},
   "source": [
    "Default imports for tetscase"
   ]
  },
  {
   "cell_type": "code",
   "execution_count": 73,
   "metadata": {
    "scrolled": true
   },
   "outputs": [],
   "source": [
    "import numpy as np\n",
    "import os\n",
    "from measproc.IntervalList import maskToIntervals"
   ]
  },
  {
   "cell_type": "markdown",
   "metadata": {},
   "source": [
    "Imports for visualizations"
   ]
  },
  {
   "cell_type": "code",
   "execution_count": 74,
   "metadata": {},
   "outputs": [],
   "source": [
    "from PySide import QtGui, QtCore\n",
    "from IPython.display import Image\n",
    "import datavis\n",
    "from datavis import PlotNavigator\n",
    "from datavis import TrackNavigator"
   ]
  },
  {
   "cell_type": "markdown",
   "metadata": {},
   "source": [
    "\n",
    "Importing DataProvider for Test suit: 4926652"
   ]
  },
  {
   "cell_type": "code",
   "execution_count": 75,
   "metadata": {
    "scrolled": true
   },
   "outputs": [],
   "source": [
    "from testevalutils.data_provider import DataProvider"
   ]
  },
  {
   "cell_type": "markdown",
   "metadata": {},
   "source": [
    "Defining Ground Truth timestamp where TrafficSign crossed"
   ]
  },
  {
   "cell_type": "code",
   "execution_count": 76,
   "metadata": {
    "scrolled": true
   },
   "outputs": [],
   "source": [
    "TRAFFICSIGNGROUNDTRUTHTIMESTAMP = 1644330223.55"
   ]
  },
  {
   "cell_type": "markdown",
   "metadata": {},
   "source": [
    "collecting TestSuit resources path "
   ]
  },
  {
   "cell_type": "code",
   "execution_count": 77,
   "metadata": {},
   "outputs": [
    {
     "name": "stdout",
     "output_type": "stream",
     "text": [
      "C:\\KBApps\\PythonToolchain_git\\dataevalaebs\\src\\testeval\\suit_4926652\\resources\n"
     ]
    }
   ],
   "source": [
    "currentTestSuitResourcePath =  os.path.abspath(os.path.join(os.path.curdir,\"resources\"))\n",
    "print(currentTestSuitResourcePath)"
   ]
  },
  {
   "cell_type": "markdown",
   "metadata": {},
   "source": [
    "Creating DataProvider by providing measurement"
   ]
  },
  {
   "cell_type": "code",
   "execution_count": 78,
   "metadata": {
    "scrolled": true
   },
   "outputs": [],
   "source": [
    "dataProvider = DataProvider(r\"D:\\measurements\\TSR_evaluation\\tssdetected_status\\mi5id787__2022-02-08_14-17-40.h5\",currentTestSuitResourcePath )"
   ]
  },
  {
   "cell_type": "markdown",
   "metadata": {},
   "source": [
    "Show available signals for test suit 4926652 from DataProvider\n",
    "alias:(deviceName,SignalName) format is used"
   ]
  },
  {
   "cell_type": "code",
   "execution_count": 79,
   "metadata": {
    "scrolled": true
   },
   "outputs": [
    {
     "name": "stdout",
     "output_type": "stream",
     "text": [
      "commonTimeGroup :\n",
      "commonTime : ('EEC1_00_s00', 'EngineSpeed')\n",
      "commonTime : ('EEC1_00_s00', 'EEC1_EngSpd_00')\n",
      "tssGroup :\n",
      "TSSCurrentRegion : ('FLC_PROP1_sE8', 'TSSCurrentRegion')\n",
      "TSSLifeTime : ('FLC_PROP1_sE8', 'TSSLifeTime')\n",
      "TSSDetectedUoM : ('FLC_PROP1_sE8', 'TSSDetectedUoM')\n",
      "TSSDetectedStatus : ('FLC_PROP1_sE8', 'TSSDetectedStatus')\n",
      "TSSOverspeedAlert : ('FLC_PROP1_sE8', 'TSSOverspeedAlert')\n",
      "TSSDetectedValue : ('FLC_PROP1_sE8', 'TSSDetectedValue')\n",
      "TSSCurrentRegion : ('FLC_PROP1_E8_sE8', 'FLCProp1_TSSCurrentRegion_E8')\n",
      "TSSLifeTime : ('FLC_PROP1_E8_sE8', 'FLCProp1_TSSLifeTime_E8')\n",
      "TSSDetectedUoM : ('FLC_PROP1_E8_sE8', 'FLCProp1_TSSDetectedUoM_E8')\n",
      "TSSDetectedStatus : ('FLC_PROP1_E8_sE8', 'FLCProp1_TSSDetectedStatus_E8')\n",
      "TSSOverspeedAlert : ('FLC_PROP1_E8_sE8', 'FLCProp1_TSSOverspeedAlert_E8')\n",
      "TSSDetectedValue : ('FLC_PROP1_E8_sE8', 'FLCProp1_TSSDetectedValue_E8')\n",
      "vxKmhGroup :\n",
      "vx_kmh : ('EBC2_0B', 'EBC2_MeanSpdFA_0B')\n",
      "vx_kmh : ('EBC2', 'MeanFASpeed')\n",
      "vx_kmh : ('EBC2_BS', 'FA_Spd_Cval')\n",
      "vx_kmh : ('EBC2_0B', 'EBC2_MeanSpdFA_0B_C2')\n",
      "vx_kmh : ('EBC2_VDY_s0B', 'EBC2_MeanSpdFA_0B')\n",
      "vx_kmh : ('EBC2_0B_s0B', 'AverageFrontAxleWhlSpeed')\n",
      "vx_kmh : ('EBC2_0B_s0B', 'EBC2_FrontAxleSpeed_0B')\n",
      "vx_kmh : ('EBC2_s0B', 'FrontAxleSpeed')\n",
      "vx_kmh : ('EBC2_0B_s0B', 'EBC2_MeanSpdFA_0B_s0B')\n",
      "vx_kmh : ('EBC2', 'FrontAxleSpeed_s0B')\n",
      "vx_kmh : ('EBC2_0B_s0B', 'EBC2_FrontAxleSpeed_0B')\n",
      "customGroup :\n",
      "engSpeedGroup :\n",
      "engspeed : ('EEC1_00_s00', 'EngineSpeed')\n",
      "engspeed : ('EEC1_00_s00', 'EEC1_EngSpd_00')\n",
      "engspeed : ('EEC1_s00', 'EngSpeed')\n",
      "engspeed : ('EEC1', 'EngSpeed_s00')\n"
     ]
    }
   ],
   "source": [
    "dataProvider.showPreDefinedSignals()"
   ]
  },
  {
   "cell_type": "markdown",
   "metadata": {},
   "source": [
    "Use the alias name to collect required signals"
   ]
  },
  {
   "cell_type": "code",
   "execution_count": 80,
   "metadata": {
    "scrolled": true
   },
   "outputs": [
    {
     "name": "stdout",
     "output_type": "stream",
     "text": [
      "[ 1054.   1051.   1051.  ...,   943.5   947.5   947.5]\n"
     ]
    }
   ],
   "source": [
    "engSpeedT, engSpeedV = dataProvider.signals[\"engSpeedGroup\"]['engspeed']\n",
    "vxKmhSpeedT, vxKmhSpeedV = dataProvider.signals[\"vxKmhGroup\"]['vx_kmh']\n",
    "tssCurrentRegionT, tssCurrentRegionV = dataProvider.signals[\"tssGroup\"]['TSSCurrentRegion']\n",
    "tssDetectedStatusT, tssDetectedStatusV = dataProvider.signals[\"tssGroup\"]['TSSDetectedStatus']\n",
    "print(engSpeedV)"
   ]
  },
  {
   "cell_type": "markdown",
   "metadata": {},
   "source": [
    "DataProvider always stores common timestamp and can be accessible using commonTime variable"
   ]
  },
  {
   "cell_type": "code",
   "execution_count": 81,
   "metadata": {
    "scrolled": true
   },
   "outputs": [
    {
     "name": "stdout",
     "output_type": "stream",
     "text": [
      "[  1.64433016e+09   1.64433016e+09   1.64433016e+09 ...,   1.64433076e+09\n",
      "   1.64433076e+09   1.64433076e+09]\n"
     ]
    }
   ],
   "source": [
    "commonTime= dataProvider.commonTime\n",
    "print(commonTime)"
   ]
  },
  {
   "cell_type": "markdown",
   "metadata": {},
   "source": [
    "Get values where TssDetectionStatus is active"
   ]
  },
  {
   "cell_type": "code",
   "execution_count": 82,
   "metadata": {
    "scrolled": true
   },
   "outputs": [
    {
     "name": "stdout",
     "output_type": "stream",
     "text": [
      "(array([ 6648,  6649,  6650, ..., 59643, 59644, 59645], dtype=int64),)\n"
     ]
    }
   ],
   "source": [
    "detections = np.where(tssDetectedStatusV==1)\n",
    "print(detections)"
   ]
  },
  {
   "cell_type": "markdown",
   "metadata": {},
   "source": [
    "Collecting detection intervals where interval=(startTimestamp,endTimestamp)"
   ]
  },
  {
   "cell_type": "code",
   "execution_count": 83,
   "metadata": {
    "scrolled": true
   },
   "outputs": [
    {
     "name": "stdout",
     "output_type": "stream",
     "text": [
      "Detection interval throughout measurement :[(6648, 7668), (20147, 21167), (31707, 32727), (33827, 34847), (41367, 42387), (46487, 47507), (52326, 53347), (58626, 59646)]\n"
     ]
    }
   ],
   "source": [
    "detectionIntervals = maskToIntervals(tssDetectedStatusV == 1)\n",
    "print(\"Detection interval throughout measurement :\" +str(detectionIntervals))"
   ]
  },
  {
   "cell_type": "markdown",
   "metadata": {},
   "source": [
    "Collecting time Indices where frist Traffic sign crossed and last active TSS status"
   ]
  },
  {
   "cell_type": "code",
   "execution_count": 84,
   "metadata": {
    "scrolled": true
   },
   "outputs": [
    {
     "name": "stdout",
     "output_type": "stream",
     "text": [
      "Time index Of Sign Passed:6648\n",
      "Time index Of Status Last Active:7668\n"
     ]
    }
   ],
   "source": [
    "indexOfSignPassed, indexOfStatusLastActive = detectionIntervals[0] \n",
    "print(\"Time index Of Sign Passed:\" +str(indexOfSignPassed))\n",
    "print(\"Time index Of Status Last Active:\"+str(indexOfStatusLastActive))"
   ]
  },
  {
   "cell_type": "markdown",
   "metadata": {},
   "source": [
    "To get time index 100 meter before Traffic Sign crossing"
   ]
  },
  {
   "cell_type": "code",
   "execution_count": 85,
   "metadata": {
    "scrolled": true
   },
   "outputs": [
    {
     "name": "stdout",
     "output_type": "stream",
     "text": [
      "Time index At 100Meter Before Sign Passed:6463\n"
     ]
    }
   ],
   "source": [
    "traveledDistanceBeforeSignPassed = 0\n",
    "indexCountAt100MeterBeforeSignPassed = 0\n",
    "while(traveledDistanceBeforeSignPassed<100):\n",
    "    traveledDistanceBeforeSignPassed = np.trapz(vxKmhSpeedV[indexOfSignPassed - indexCountAt100MeterBeforeSignPassed:indexOfSignPassed], \\\n",
    "                                                                                            commonTime[indexOfSignPassed - indexCountAt100MeterBeforeSignPassed:indexOfSignPassed])\n",
    "    indexCountAt100MeterBeforeSignPassed+=1\n",
    "indexAt100MeterBeforeSignPassed= indexOfSignPassed - indexCountAt100MeterBeforeSignPassed\n",
    "print(\"Time index At 100Meter Before Sign Passed:\"+str(indexAt100MeterBeforeSignPassed))"
   ]
  },
  {
   "cell_type": "markdown",
   "metadata": {},
   "source": [
    "For following steps from testcase:\n",
    "1.  a) Accelerate the host vehicle, V_ego = 20 kph.\n",
    "    b) Stabilise and maintain V_ego = 20 kph.\n",
    "2.  a) Place a 20 kph Speed limit Traffic sign along the EGO lane direction, to the right side."
   ]
  },
  {
   "cell_type": "code",
   "execution_count": 86,
   "metadata": {
    "scrolled": true
   },
   "outputs": [
    {
     "name": "stdout",
     "output_type": "stream",
     "text": [
      "Vehicle speed:53.51953125\n"
     ]
    }
   ],
   "source": [
    "print(\"Vehicle speed:\"+str(vxKmhSpeedV[indexAt100MeterBeforeSignPassed]))"
   ]
  },
  {
   "cell_type": "markdown",
   "metadata": {},
   "source": [
    "Checking if ego velocity is greater or equals to 20kph, before 100 meter of detection"
   ]
  },
  {
   "cell_type": "code",
   "execution_count": 87,
   "metadata": {
    "scrolled": true
   },
   "outputs": [
    {
     "name": "stdout",
     "output_type": "stream",
     "text": [
      "True\n"
     ]
    }
   ],
   "source": [
    "print(vxKmhSpeedV[indexAt100MeterBeforeSignPassed] >= 20)"
   ]
  },
  {
   "cell_type": "code",
   "execution_count": 88,
   "metadata": {
    "scrolled": true
   },
   "outputs": [
    {
     "name": "stdout",
     "output_type": "stream",
     "text": [
      "Engine speed:1005.0\n"
     ]
    }
   ],
   "source": [
    "print(\"Engine speed:\"+str(engSpeedV[indexAt100MeterBeforeSignPassed]))"
   ]
  },
  {
   "cell_type": "markdown",
   "metadata": {},
   "source": [
    "checking if engine speed is greater or equals to 500, before 100 meter of detection"
   ]
  },
  {
   "cell_type": "code",
   "execution_count": 89,
   "metadata": {
    "scrolled": true
   },
   "outputs": [
    {
     "name": "stdout",
     "output_type": "stream",
     "text": [
      "True\n"
     ]
    }
   ],
   "source": [
    "print(engSpeedV[indexAt100MeterBeforeSignPassed] >= 500)"
   ]
  },
  {
   "cell_type": "markdown",
   "metadata": {},
   "source": [
    "Passed:\n",
    "After Point 1:\n",
    "        • TSSDetectedStatus = 0, before the Traffic Sign."
   ]
  },
  {
   "cell_type": "markdown",
   "metadata": {},
   "source": [
    "Failed:\n",
    "        • TSSDetectedStatus = 1, before approaching the Traffic Sign."
   ]
  },
  {
   "cell_type": "code",
   "execution_count": 90,
   "metadata": {
    "scrolled": true
   },
   "outputs": [],
   "source": [
    "assert tssDetectedStatusV[indexAt100MeterBeforeSignPassed]==0,\" TSSDetectedStatus = 1, before approaching the Traffic Sign.\"\n",
    "isTssInactiveBeforeDetection  = np.all(tssDetectedStatusV[indexAt100MeterBeforeSignPassed:indexOfSignPassed]==0)\n"
   ]
  },
  {
   "cell_type": "markdown",
   "metadata": {},
   "source": [
    "Passed:\n",
    "After Point 4:\n",
    "       • TSSDetectedStatus = 1, after crossing Traffic Sign.\n",
    "       • TSSCurrentRegion = XX"
   ]
  },
  {
   "cell_type": "markdown",
   "metadata": {},
   "source": [
    "Failed:\n",
    "       • TSSDetectedStatus = 0, after crossing Traffic Sign.\n",
    "       (i.e.  after EGO has crossed/went passed-by Traffic Sign post.)"
   ]
  },
  {
   "cell_type": "code",
   "execution_count": 91,
   "metadata": {
    "scrolled": true
   },
   "outputs": [
    {
     "name": "stdout",
     "output_type": "stream",
     "text": [
      "True\n",
      "[1 1 1 ..., 1 1 1]\n"
     ]
    }
   ],
   "source": [
    "print(tssDetectedStatusT[indexOfSignPassed]>TRAFFICSIGNGROUNDTRUTHTIMESTAMP)\n",
    "print(tssDetectedStatusV[indexOfSignPassed:indexOfStatusLastActive])\n",
    "isTssActiveAfterDetection = np.all(tssDetectedStatusV[indexOfSignPassed:indexOfStatusLastActive]==1)"
   ]
  },
  {
   "cell_type": "code",
   "execution_count": 92,
   "metadata": {
    "scrolled": true
   },
   "outputs": [
    {
     "name": "stdout",
     "output_type": "stream",
     "text": [
      "[901 901 901 ..., 901 901 901]\n"
     ]
    }
   ],
   "source": [
    "print(tssCurrentRegionV[indexOfSignPassed:indexOfStatusLastActive])\n",
    "isTssRegionHasValueAfterDetection = np.all(tssCurrentRegionV[indexOfSignPassed:indexOfStatusLastActive]!=0)"
   ]
  },
  {
   "cell_type": "code",
   "execution_count": 93,
   "metadata": {
    "scrolled": true
   },
   "outputs": [
    {
     "name": "stdout",
     "output_type": "stream",
     "text": [
      "Testcase Passed\n"
     ]
    }
   ],
   "source": [
    "if isTssInactiveBeforeDetection and isTssActiveAfterDetection and isTssRegionHasValueAfterDetection :\n",
    "     print(\"Testcase Passed\")\n",
    "else : \n",
    "    print(\"Testcase Failed\")"
   ]
  },
  {
   "cell_type": "markdown",
   "metadata": {},
   "source": [
    "Synchronized plot visualization: Ego is about to cross Traffic sign where TSS Detected Status is changing from 0->1"
   ]
  },
  {
   "cell_type": "code",
   "execution_count": 94,
   "metadata": {
    "scrolled": true
   },
   "outputs": [],
   "source": [
    "app = QtCore.QCoreApplication.instance()\n",
    "if app is None:\n",
    "    app = QtGui.QApplication([])"
   ]
  },
  {
   "cell_type": "code",
   "execution_count": 95,
   "metadata": {},
   "outputs": [],
   "source": [
    "sync = datavis.cSynchronizer()"
   ]
  },
  {
   "cell_type": "code",
   "execution_count": 96,
   "metadata": {},
   "outputs": [
    {
     "data": {
      "text/plain": [
       "'TSS_Detected_status'"
      ]
     },
     "execution_count": 96,
     "metadata": {},
     "output_type": "execute_result"
    }
   ],
   "source": [
    "PlotTSSDetection = datavis.PlotNavigator.cPlotNavigator(\"TSS Detected status\")\n",
    "PlotTSSDetection.addsignal('engSpeed', [commonTime, engSpeedV])\n",
    "PlotTSSDetection.addsignal('ego Speed', [commonTime, vxKmhSpeedV])\n",
    "PlotTSSDetection.addsignal('TSS Detected Status', [commonTime, tssDetectedStatusV])\n",
    "sync.addClient(PlotTSSDetection)"
   ]
  },
  {
   "cell_type": "code",
   "execution_count": 97,
   "metadata": {},
   "outputs": [],
   "source": [
    "sync.start()\n",
    "sync.seek(TRAFFICSIGNGROUNDTRUTHTIMESTAMP)"
   ]
  },
  {
   "cell_type": "code",
   "execution_count": 98,
   "metadata": {},
   "outputs": [
    {
     "data": {
      "image/png": "[encoded data removed]",
      "text/plain": [
       "<IPython.core.display.Image object>"
      ]
     },
     "execution_count": 98,
     "metadata": {},
     "output_type": "execute_result"
    }
   ],
   "source": [
    "PlotTSSDetection.copyContentToFile(\"PlotTSSDetection.png\")\n",
    "Image(\"PlotTSSDetection.png\")"
   ]
  },
  {
   "cell_type": "code",
   "execution_count": null,
   "metadata": {},
   "outputs": [],
   "source": []
  }
 ],
 "metadata": {
  "kernelspec": {
   "display_name": "Python 2",
   "language": "python",
   "name": "python2"
  },
  "language_info": {
   "codemirror_mode": {
    "name": "ipython",
    "version": 2
   },
   "file_extension": ".py",
   "mimetype": "text/x-python",
   "name": "python",
   "nbconvert_exporter": "python",
   "pygments_lexer": "ipython2",
   "version": "2.7.11"
  }
 },
 "nbformat": 4,
 "nbformat_minor": 2
}
