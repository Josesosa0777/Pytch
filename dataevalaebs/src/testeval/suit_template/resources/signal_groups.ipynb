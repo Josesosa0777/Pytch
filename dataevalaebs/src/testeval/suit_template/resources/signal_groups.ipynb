{
 "cells": [
  {
   "cell_type": "code",
   "execution_count": null,
   "metadata": {},
   "outputs": [],
   "source": [
    "commonTimeGroupList= [\n",
    "    {\n",
    "            \"commonTime\": (\"EEC1_00_s00\", \"EngineSpeed\")\n",
    "    },\n",
    "    {       \"commonTime\": (\"EEC1_00_s00\",\"EEC1_EngSpd_00\"),\n",
    "    }\n",
    "]\n",
    "engSpeedGroupList = [\n",
    "    {\n",
    "            \"engspeed\": (\"EEC1_00_s00\", \"EngineSpeed\")\n",
    "    },\n",
    "    {\n",
    "            \"engspeed\": (\"EEC1_00_s00\", \"EEC1_EngSpd_00\")\n",
    "    },\n",
    "    \n",
    "]\n",
    "vxKmhGroupList = [\n",
    "    \n",
    "    {\n",
    "      \"vx_kmh\"  : (\"EBC2_0B_s0B\", \"AverageFrontAxleWhlSpeed\"),\n",
    "\n",
    "    },\n",
    "    {\n",
    "\n",
    "      \"vx_kmh\"  : (\"EBC2_0B_s0B\", \"EBC2_FrontAxleSpeed_0B\"),\n",
    "    }\n",
    "]\n",
    "\n",
    "customGroupList =[\n",
    "    {\n",
    "        \"vx_kmh\"  : (\"EBC2_0B_s0B\", \"AverageFrontAxleWhlSpeed\"),\n",
    "    } \n",
    "]\n",
    "\n"
   ]
  }
 ],
 "metadata": {
  "kernelspec": {
   "display_name": "Python 2",
   "language": "python",
   "name": "python2"
  },
  "language_info": {
   "codemirror_mode": {
    "name": "ipython",
    "version": 2
   },
   "file_extension": ".py",
   "mimetype": "text/x-python",
   "name": "python",
   "nbconvert_exporter": "python",
   "pygments_lexer": "ipython2",
   "version": "2.7.11"
  }
 },
 "nbformat": 4,
 "nbformat_minor": 2
}
